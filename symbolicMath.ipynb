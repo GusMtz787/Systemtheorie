{
 "cells": [
  {
   "cell_type": "markdown",
   "id": "2a59530b",
   "metadata": {},
   "source": [
    "# Symbolische Mathematik mit Python \n",
    "\n",
    "Dieses Notebook liegt bereit um Mathematik Probleme mit Symbolen zu lösen. Dieses Notebook liegt bereit um Mathematik Probleme zu lösen mit Symbolen. Man braucht ein Python Umgebung um dieses Code zu laufen. Die Konzepten, die hier präsentiert sind, sind nur ein klein Teil von allen die Sachen die Mann mit Python machen kann."
   ]
  },
  {
   "cell_type": "markdown",
   "id": "cc56f449",
   "metadata": {},
   "source": [
    "### Sympy Library\n",
    "\n",
    "Mann muss die *Library* Sympy in unserer Python Umgebung zu deklarieren für die symbolische Berechnung."
   ]
  },
  {
   "cell_type": "code",
   "execution_count": 2,
   "id": "7ec49637",
   "metadata": {},
   "outputs": [],
   "source": [
    "import sympy as sp"
   ]
  },
  {
   "cell_type": "markdown",
   "id": "eaa59000",
   "metadata": {},
   "source": [
    "### Symbolen\n",
    "\n",
    "Wir können alle die Symbolen, die wir anwenden möchten in der folgender Form zu nutzen."
   ]
  },
  {
   "cell_type": "code",
   "execution_count": 3,
   "id": "0cecfa39-8f01-4dc8-a96f-acfdef768d25",
   "metadata": {},
   "outputs": [
    {
     "data": {
      "text/latex": [
       "$\\displaystyle R$"
      ],
      "text/plain": [
       "R"
      ]
     },
     "execution_count": 3,
     "metadata": {},
     "output_type": "execute_result"
    }
   ],
   "source": [
    "# Define symbolic parameters\n",
    "R = sp.Symbol('R')\n",
    "\n",
    "# Print the symbolic parameter to visualize (it renders it in LaTeX format)\n",
    "R"
   ]
  },
  {
   "cell_type": "markdown",
   "id": "ff325d80",
   "metadata": {},
   "source": [
    "### Anwendung Beispiel: Exponentialfunktion\n",
    "\n",
    "Für Übung 4 in Aufgabe 2 mann muss die Exponentialfunktion berechnen. Für manche Probleme, ist die Symbolische lösung mit Sympy nicht komplet nützlich. Mann sollte besser ein paar Variabeln als Nummern anzuwenden. Erst, definier deine Variabeln."
   ]
  },
  {
   "cell_type": "code",
   "execution_count": 4,
   "id": "4e56950b-a5db-41af-8d7a-6fabfe09fd3c",
   "metadata": {},
   "outputs": [],
   "source": [
    "# Define the state matrix A\n",
    "R_val = 9  # Ohms\n",
    "L_val = 0.11  # Vs/A\n",
    "J_val = 0.1  # kg m^2\n",
    "D_val = 0.1  # kg m^2/s\n",
    "K1_val = 3  # V s\n",
    "K2_val = 3  # Nm/A"
   ]
  },
  {
   "cell_type": "markdown",
   "id": "8af38fdb",
   "metadata": {},
   "source": [
    "Mann kann jetzt der Matrix mit den Variabeln anzubauen mit der Kommand sp.Matrix() als folgendes"
   ]
  },
  {
   "cell_type": "code",
   "execution_count": 5,
   "id": "5e88c83b",
   "metadata": {},
   "outputs": [],
   "source": [
    "A = sp.Matrix([[-D_val/J_val, K2_val/J_val],\n",
    "                [-K1_val/L_val, -R_val/L_val]])"
   ]
  },
  {
   "cell_type": "markdown",
   "id": "ff3e67d2",
   "metadata": {},
   "source": [
    "Jetzt können wir die Eigenwerte von diesem Matrix zu finden:"
   ]
  },
  {
   "cell_type": "code",
   "execution_count": 33,
   "id": "0d79ce54",
   "metadata": {},
   "outputs": [
    {
     "name": "stdout",
     "output_type": "stream",
     "text": [
      "Eigenvalues: -12.8659164199533, -69.9522653982285\n",
      "\n",
      "Eigenvectors: (-12.8659164199533, 1, [Matrix([\n",
      "[ 0.929902935493461],\n",
      "[-0.367805017041155]])]), (-69.9522653982285, 1, [Matrix([\n",
      "[-0.56329483843554],\n",
      "[ 1.29468183990865]])])\n"
     ]
    }
   ],
   "source": [
    "eigenvalues = A.eigenvals(multiple=True) # if the multiple=True flag is set, it returns a list of eigenvalues. Else a dictionary.\n",
    "eigenvectors = A.eigenvects()\n",
    "\n",
    "print(f\"Eigenvalues: {eigenvalues[0]}, {eigenvalues[1]}\\n\")\n",
    "print(f\"Eigenvectors: {eigenvectors[0]}, {eigenvectors[1]}\")"
   ]
  },
  {
   "cell_type": "markdown",
   "id": "34ee8eeb",
   "metadata": {},
   "source": [
    "Jetzt können wir unsere Zeit variabel $t$ zu definieren."
   ]
  },
  {
   "cell_type": "code",
   "execution_count": 18,
   "id": "b60d6327",
   "metadata": {},
   "outputs": [],
   "source": [
    "t = sp.Symbol('t')"
   ]
  },
  {
   "cell_type": "markdown",
   "id": "0819f3fc",
   "metadata": {},
   "source": [
    "Zum Ende ist die Lösung mit der Exponentialfunkition von Sympy ganz einfach als:"
   ]
  },
  {
   "cell_type": "code",
   "execution_count": 19,
   "id": "2e6ddf5e",
   "metadata": {},
   "outputs": [
    {
     "data": {
      "text/latex": [
       "$\\displaystyle \\left[\\begin{matrix}- 0.207859087721112 e^{- 69.9522653982285 t} + 1.20785908772111 e^{- 12.8659164199533 t} & - 0.525519682672592 e^{- 69.9522653982285 t} + 0.525519682672592 e^{- 12.8659164199533 t}\\\\0.477745166065992 e^{- 69.9522653982285 t} - 0.477745166065992 e^{- 12.8659164199533 t} & 1.20785908772111 e^{- 69.9522653982285 t} - 0.207859087721112 e^{- 12.8659164199533 t}\\end{matrix}\\right]$"
      ],
      "text/plain": [
       "Matrix([\n",
       "[-0.207859087721112*exp(-69.9522653982285*t) + 1.20785908772111*exp(-12.8659164199533*t), -0.525519682672592*exp(-69.9522653982285*t) + 0.525519682672592*exp(-12.8659164199533*t)],\n",
       "[0.477745166065992*exp(-69.9522653982285*t) - 0.477745166065992*exp(-12.8659164199533*t),   1.20785908772111*exp(-69.9522653982285*t) - 0.207859087721112*exp(-12.8659164199533*t)]])"
      ]
     },
     "execution_count": 19,
     "metadata": {},
     "output_type": "execute_result"
    }
   ],
   "source": [
    "exp_At = (A * t).exp()\n",
    "exp_At"
   ]
  },
  {
   "cell_type": "code",
   "execution_count": null,
   "id": "9275aad6",
   "metadata": {},
   "outputs": [
    {
     "name": "stdout",
     "output_type": "stream",
     "text": [
      "Roots: -69.9522653982285, -12.865916419953312\n",
      "\n"
     ]
    }
   ],
   "source": [
    "import numpy as np\n",
    "\n",
    "coeffs = np.array([1, \n",
    "                   (R_val/L_val) + (D_val/J_val), \n",
    "                   ((D_val * R_val) / (J_val * L_val)) + ((K1_val * K2_val) / (L_val * J_val))\n",
    "                  ])\n",
    "roots = np.roots(coeffs)\n",
    "print(f\"Roots: {roots[0]}, {roots[1]}\\n\")"
   ]
  }
 ],
 "metadata": {
  "kernelspec": {
   "display_name": "env",
   "language": "python",
   "name": "python3"
  },
  "language_info": {
   "codemirror_mode": {
    "name": "ipython",
    "version": 3
   },
   "file_extension": ".py",
   "mimetype": "text/x-python",
   "name": "python",
   "nbconvert_exporter": "python",
   "pygments_lexer": "ipython3",
   "version": "3.10.12"
  }
 },
 "nbformat": 4,
 "nbformat_minor": 5
}
