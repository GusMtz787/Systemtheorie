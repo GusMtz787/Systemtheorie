{
 "cells": [
  {
   "cell_type": "markdown",
   "id": "a31cdf9b",
   "metadata": {},
   "source": [
    "# Linear Algebra in System Theory"
   ]
  },
  {
   "cell_type": "code",
   "execution_count": 2,
   "id": "36b524e9",
   "metadata": {},
   "outputs": [],
   "source": [
    "import sympy as sp"
   ]
  },
  {
   "cell_type": "markdown",
   "id": "6f1504f4",
   "metadata": {},
   "source": [
    "Solve a $A\\vec{x} = \\vec{b}$ problem. \n",
    "\n",
    "For this we use the sp.linsolve() function of sympy, which returns an 'EmptySet' if the system is inconsistent (no solution)."
   ]
  },
  {
   "cell_type": "code",
   "execution_count": 4,
   "id": "3a12c5ef",
   "metadata": {},
   "outputs": [
    {
     "name": "stdout",
     "output_type": "stream",
     "text": [
      "Solution to the system: {(c3, -c3, c3)}\n"
     ]
    }
   ],
   "source": [
    "c1, c2, c3 = sp.symbols('c1 c2 c3')\n",
    "\n",
    "# Coefficient matrix A \n",
    "A = sp.Matrix([\n",
    "    [1, 1, 0],\n",
    "    [1, 2, 1],\n",
    "    [0, 1, 1]\n",
    "])\n",
    "\n",
    "# Right-hand side vector (homogeneous case)\n",
    "B = sp.Matrix([0, 0, 0])\n",
    "\n",
    "# Solve the system A * [x, y] = B\n",
    "solution = sp.linsolve((A, B), (c1, c2, c3))\n",
    "\n",
    "print(\"Solution to the system:\", solution)"
   ]
  }
 ],
 "metadata": {
  "kernelspec": {
   "display_name": "env",
   "language": "python",
   "name": "python3"
  },
  "language_info": {
   "codemirror_mode": {
    "name": "ipython",
    "version": 3
   },
   "file_extension": ".py",
   "mimetype": "text/x-python",
   "name": "python",
   "nbconvert_exporter": "python",
   "pygments_lexer": "ipython3",
   "version": "3.10.12"
  }
 },
 "nbformat": 4,
 "nbformat_minor": 5
}
