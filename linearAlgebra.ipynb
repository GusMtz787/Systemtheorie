{
 "cells": [
  {
   "cell_type": "markdown",
   "id": "a31cdf9b",
   "metadata": {},
   "source": [
    "# Lineare Algebra in der Systemtheorie"
   ]
  },
  {
   "cell_type": "markdown",
   "id": "086b0fad",
   "metadata": {},
   "source": [
    "Es gibt zwei wichtige Python-Bibliotheken, die in diesem Kurs hilfreich sein können:\n",
    "\n",
    "- **Sympy**: eine Bibliothek für symbolische Berechnungen.\n",
    "- **Numpy**: die _de facto_ optimale Numerischebibliothek für Python.\n",
    "\n",
    "Für mehr Information von jeder Bibliothek, ihr könnt die [Sympy](https://docs.sympy.org/latest/modules/matrices/matrices.html) oder [Numpy](https://numpy.org/doc/2.2/reference/routines.linalg.html) Webseiten besuchen.\n",
    "\n",
    "Unser ersten Schritt ist beide Bibliotheken mit dem nächsten Befehl zu integrieren."
   ]
  },
  {
   "cell_type": "code",
   "execution_count": 2,
   "id": "36b524e9",
   "metadata": {},
   "outputs": [],
   "source": [
    "import sympy as sp\n",
    "import numpy as np"
   ]
  },
  {
   "cell_type": "markdown",
   "id": "6f1504f4",
   "metadata": {},
   "source": [
    "### Beispiel 1: Symbolische Lösungen\n",
    "\n",
    "Für Matrix $\\boldsymbol{A} = \\begin{bmatrix} 1 & 1 & 0 \\\\ 1 & 2 & 1 \\\\ 0 & 1 & 1 \\end{bmatrix}$ und Vektor $\\boldsymbol{b} = \\begin{bmatrix} 0 & 0 & 0 \\end{bmatrix}^{\\top}$ bestimmen Sie $\\boldsymbol{x}$ in $\\boldsymbol{A}\\boldsymbol{x} = \\boldsymbol{b}$. \n",
    "\n",
    "Hierzu verwenden wir die Funktion sp.linsolve() von Sympy, die ein „EmptySet“ zurückgibt, wenn das System inkonsistent ist (keine Lösung)."
   ]
  },
  {
   "cell_type": "code",
   "execution_count": 10,
   "id": "3a12c5ef",
   "metadata": {},
   "outputs": [
    {
     "name": "stdout",
     "output_type": "stream",
     "text": [
      "Lösung für das System:\n"
     ]
    },
    {
     "data": {
      "text/latex": [
       "$\\displaystyle \\left\\{\\left( x_{3}, \\  - x_{3}, \\  x_{3}\\right)\\right\\}$"
      ],
      "text/plain": [
       "{(x3, -x3, x3)}"
      ]
     },
     "execution_count": 10,
     "metadata": {},
     "output_type": "execute_result"
    }
   ],
   "source": [
    "x1, x2, x3 = sp.symbols('x1 x2 x3')\n",
    "\n",
    "# Coefficient matrix A \n",
    "A = sp.Matrix([\n",
    "    [1, 1, 0],\n",
    "    [1, 2, 1],\n",
    "    [0, 1, 1]\n",
    "])\n",
    "\n",
    "# Right-hand side vector\n",
    "b = sp.Matrix([0, 0, 0])\n",
    "\n",
    "# Solve the system A * x = B\n",
    "solution = sp.linsolve((A, b), (x1, x2, x3))\n",
    "\n",
    "print(\"Lösung für das System:\")\n",
    "solution"
   ]
  },
  {
   "cell_type": "markdown",
   "id": "d88f8adf",
   "metadata": {},
   "source": [
    "### Beispiel 2: Eigenwerte und Eigenvektoren\n",
    "\n",
    "Wir können auch **Eigenwerten** und **Eigenvektoren** finden mit den Funktionen eigenvals() und eigenvects().\n",
    "\n"
   ]
  },
  {
   "cell_type": "code",
   "execution_count": null,
   "id": "60521b13",
   "metadata": {},
   "outputs": [
    {
     "name": "stdout",
     "output_type": "stream",
     "text": [
      "Eigenwerten: -5, -1\n",
      "\n",
      "Eigenvektoren:\n",
      "Eigenwert: -5, Vielfachheit: 1, Eigenvektoren: [Matrix([\n",
      "[-1],\n",
      "[ 1]])]\n",
      "Eigenwert: -1, Vielfachheit: 1, Eigenvektoren: [Matrix([\n",
      "[3],\n",
      "[1]])]\n",
      "\n",
      "exp(At):\n"
     ]
    },
    {
     "data": {
      "text/latex": [
       "$\\displaystyle \\left[\\begin{matrix}\\frac{3 e^{- t}}{4} + \\frac{e^{- 5 t}}{4} & \\frac{3 e^{- t}}{4} - \\frac{3 e^{- 5 t}}{4}\\\\\\frac{e^{- t}}{4} - \\frac{e^{- 5 t}}{4} & \\frac{e^{- t}}{4} + \\frac{3 e^{- 5 t}}{4}\\end{matrix}\\right]$"
      ],
      "text/plain": [
       "Matrix([\n",
       "[3*exp(-t)/4 + exp(-5*t)/4, 3*exp(-t)/4 - 3*exp(-5*t)/4],\n",
       "[  exp(-t)/4 - exp(-5*t)/4,   exp(-t)/4 + 3*exp(-5*t)/4]])"
      ]
     },
     "execution_count": 12,
     "metadata": {},
     "output_type": "execute_result"
    }
   ],
   "source": [
    "A = sp.Matrix([[-2, 3],\n",
    "                [1, -4]])\n",
    "\n",
    "t = sp.Symbol('t')\n",
    "\n",
    "eigenvalues = A.eigenvals(multiple=True)\n",
    "print(f\"Eigenwerten: {eigenvalues[0]}, {eigenvalues[1]}\\n\")\n",
    "\n",
    "eigenvektoren = A.eigenvects()\n",
    "print(\"Eigenvektoren:\")\n",
    "for eigenvalue, multiplicity, eigvecs in eigenvektoren:\n",
    "    print(f\"Eigenwert: {eigenvalue}, Vielfachheit: {multiplicity}, Eigenvektoren: {eigvecs}\")\n",
    "\n",
    "exp_At = (A * t).exp()\n",
    "print(f\"\\nexp(At):\")\n",
    "exp_At "
   ]
  },
  {
   "cell_type": "code",
   "execution_count": 5,
   "id": "29a778dd",
   "metadata": {},
   "outputs": [
    {
     "name": "stdout",
     "output_type": "stream",
     "text": [
      "Observability matrix Po:\n",
      " [[ 1  0]\n",
      " [-2  4]]\n",
      "Inverse of the observability matrix Po_inv:\n",
      " [[ 1.   -0.  ]\n",
      " [ 0.5   0.25]]\n",
      "Vector v:\n",
      " [[0.  ]\n",
      " [0.25]]\n",
      "Inverse of the transformation matrix:\n",
      " [[0.   1.  ]\n",
      " [0.25 0.  ]]\n",
      "Transformation matrix T:\n",
      " [[0. 4.]\n",
      " [1. 0.]]\n",
      "Normal form of A:\n",
      " [[ 0. -8.]\n",
      " [ 1. -2.]]\n",
      "Normal form of B:\n",
      " [[40.]\n",
      " [ 2.]]\n",
      "Normal form of c:\n",
      " [0. 1.]\n",
      "[[   0 -368]\n",
      " [2944  736]]\n"
     ]
    }
   ],
   "source": [
    "import numpy as np\n",
    "from numpy import linalg as LA\n",
    "\n",
    "# Define the matrices and vectors\n",
    "A = np.array([[-2, 4],\n",
    "                [-2, 0]])\n",
    "B = np.array([[2],\n",
    "                [10]])\n",
    "c = np.array([1, 0]) # careful, this is a column vector\n",
    "\n",
    "en = np.array([[0], [1]]) # this is a row vector\n",
    "\n",
    "# Form the observavbility matrix\n",
    "Po = np.array([c, np.matmul(c, A)])\n",
    "print(\"Observability matrix Po:\\n\", Po)\n",
    "\n",
    "# Find the inverse of the observability matrix\n",
    "Po_inv = LA.inv(Po)\n",
    "print(\"Inverse of the observability matrix Po_inv:\\n\", Po_inv)\n",
    "\n",
    "# Calculate the vector\n",
    "v = np.matmul(Po_inv, en)\n",
    "print(\"Vector v:\\n\", v)\n",
    "\n",
    "# Form the transformation matrix T\n",
    "T_inv = np.hstack([v, A @ v])\n",
    "print(\"Inverse of the transformation matrix:\\n\", T_inv)\n",
    "\n",
    "T = LA.inv(T_inv)\n",
    "print(\"Transformation matrix T:\\n\", T)\n",
    "\n",
    "A_normal = np.matmul(T, np.matmul(A, LA.inv(T)))\n",
    "print(\"Normal form of A:\\n\", A_normal)\n",
    "\n",
    "B_normal = np.matmul(T, B)\n",
    "print(\"Normal form of B:\\n\", B_normal)\n",
    "\n",
    "c_normal = np.matmul(c, T_inv)\n",
    "print(\"Normal form of c:\\n\", c_normal)\n",
    "\n",
    "T = np.array([[-10, 2],\n",
    "                [16, -40]])\n",
    "T_inv = np.array([[40, 2],\n",
    "                [16, 10]])\n",
    "\n",
    "print(LA.matmul(LA.matmul(T, A), T_inv))"
   ]
  },
  {
   "cell_type": "code",
   "execution_count": 6,
   "id": "bbd7241c",
   "metadata": {},
   "outputs": [
    {
     "name": "stdout",
     "output_type": "stream",
     "text": [
      "Normal form of A:\n",
      " [[-1. -0. -0.]\n",
      " [ 0.  1.  0.]\n",
      " [-0.  0.  2.]]\n",
      "Normal form of b:\n",
      " [[1.0*alpha]\n",
      " [1.00000000000000]\n",
      " [-1.0*alpha]]\n",
      "Normal form of c:\n",
      " [ 1.  1. -1.]\n"
     ]
    }
   ],
   "source": [
    "np.set_printoptions(suppress=True, precision=5) # This command avoids printing small numbers in scientific notation\n",
    "alpha = sp.symbols('alpha')\n",
    "\n",
    "A = np.array([[0, -1, -1],\n",
    "                [-1.5, 0.5, -1.5],\n",
    "                [0.5, -0.5, 1.5]])\n",
    "\n",
    "b = sp.Matrix([[(1 + alpha) / np.sqrt(2)],\n",
    "                [0],\n",
    "                [(-1 + alpha) / np.sqrt(2)]])\n",
    "\n",
    "c = np.array([3/np.sqrt(2), -1/np.sqrt(2), 1/np.sqrt(2)])\n",
    "\n",
    "T = (1 / np.sqrt(2)) * np.array([[1, 1, 0],\n",
    "                    [1, 0, 1],\n",
    "                    [0, -1, -1]])\n",
    "\n",
    "T_inv = (1 / np.sqrt(2)) *np.array([[1, 1, 1],\n",
    "                            [1, -1, -1],\n",
    "                            [-1, 1, -1]])\n",
    "\n",
    "\n",
    "\n",
    "A_normal = np.matmul(T_inv, np.matmul(A, T))\n",
    "b_normal = np.matmul(T_inv, b)\n",
    "c_normal = np.matmul(c, T)\n",
    "print(\"Normal form of A:\\n\", A_normal)\n",
    "print(\"Normal form of b:\\n\", b_normal)\n",
    "print(\"Normal form of c:\\n\", c_normal)"
   ]
  },
  {
   "cell_type": "code",
   "execution_count": 22,
   "id": "5e69a8e3",
   "metadata": {},
   "outputs": [
    {
     "name": "stdout",
     "output_type": "stream",
     "text": [
      "3*exp(-t) - 2*exp(-2*t) + exp(-3*t)\n",
      "2.5*exp(-t) - 4.0*exp(-2*t) + 1.5*exp(-3*t)\n",
      "0.5*exp(-t) - 1.0*exp(-2*t) + 0.5*exp(-3*t)\n"
     ]
    },
    {
     "data": {
      "text/latex": [
       "$\\displaystyle \\left[\\begin{matrix}1.0 e^{- t} + 1.0 e^{- 2 t} & 0 & 0\\\\0 & 2.0 e^{- 2 t} & 0\\\\0 & 0 & 1.0 e^{- 2 t} + 1.0 e^{- 3 t}\\end{matrix}\\right]$"
      ],
      "text/plain": [
       "Matrix([\n",
       "[1.0*exp(-t) + 1.0*exp(-2*t),             0,                             0],\n",
       "[                          0, 2.0*exp(-2*t),                             0],\n",
       "[                          0,             0, 1.0*exp(-2*t) + 1.0*exp(-3*t)]])"
      ]
     },
     "execution_count": 22,
     "metadata": {},
     "output_type": "execute_result"
    }
   ],
   "source": [
    "t = sp.Symbol('t')\n",
    "A = sp.Matrix([[-1, 0, 0],\n",
    "                [0, -2, 0],\n",
    "                [0, 0, -3]])\n",
    "\n",
    "alpha0 = 2*sp.exp(-1*t) + sp.exp(-3*t) - 2*sp.exp(-2*t) + sp.exp(-1*t)\n",
    "print(alpha0)\n",
    "alpha1 = sp.exp(-1*t) + ((3 / 2) * (sp.exp(-3*t) - 2 * sp.exp(-2*t) + sp.exp(-1*t))) - sp.exp(-2*t)\n",
    "print(alpha1)\n",
    "alpha2 = (1 / 2) * (sp.exp(-3*t) - 2 * sp.exp(-2*t) + sp.exp(-1*t))\n",
    "print(alpha2)\n",
    "\n",
    "exp_At = sp.eye(3) * alpha0 + A * alpha1 + (A * A) * alpha2\n",
    "exp_At"
   ]
  }
 ],
 "metadata": {
  "kernelspec": {
   "display_name": "env",
   "language": "python",
   "name": "python3"
  },
  "language_info": {
   "codemirror_mode": {
    "name": "ipython",
    "version": 3
   },
   "file_extension": ".py",
   "mimetype": "text/x-python",
   "name": "python",
   "nbconvert_exporter": "python",
   "pygments_lexer": "ipython3",
   "version": "3.10.12"
  }
 },
 "nbformat": 4,
 "nbformat_minor": 5
}
