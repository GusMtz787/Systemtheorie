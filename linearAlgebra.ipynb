{
 "cells": [
  {
   "cell_type": "markdown",
   "id": "a31cdf9b",
   "metadata": {},
   "source": [
    "# Linear Algebra in System Theory"
   ]
  },
  {
   "cell_type": "code",
   "execution_count": 1,
   "id": "36b524e9",
   "metadata": {},
   "outputs": [],
   "source": [
    "import sympy as sp"
   ]
  },
  {
   "cell_type": "markdown",
   "id": "6f1504f4",
   "metadata": {},
   "source": [
    "Solve a $A\\vec{x} = \\vec{b}$ problem. \n",
    "\n",
    "For this we use the sp.linsolve() function of sympy, which returns an 'EmptySet' if the system is inconsistent (no solution)."
   ]
  },
  {
   "cell_type": "code",
   "execution_count": 4,
   "id": "3a12c5ef",
   "metadata": {},
   "outputs": [
    {
     "name": "stdout",
     "output_type": "stream",
     "text": [
      "Solution to the system: {(c3, -c3, c3)}\n"
     ]
    }
   ],
   "source": [
    "c1, c2, c3 = sp.symbols('c1 c2 c3')\n",
    "\n",
    "# Coefficient matrix A \n",
    "A = sp.Matrix([\n",
    "    [1, 1, 0],\n",
    "    [1, 2, 1],\n",
    "    [0, 1, 1]\n",
    "])\n",
    "\n",
    "# Right-hand side vector (homogeneous case)\n",
    "B = sp.Matrix([0, 0, 0])\n",
    "\n",
    "# Solve the system A * [x, y] = B\n",
    "solution = sp.linsolve((A, B), (c1, c2, c3))\n",
    "\n",
    "print(\"Solution to the system:\", solution)"
   ]
  },
  {
   "cell_type": "code",
   "execution_count": 21,
   "id": "60521b13",
   "metadata": {},
   "outputs": [
    {
     "name": "stdout",
     "output_type": "stream",
     "text": [
      "Eigenvalues: -5, -1\n",
      "\n",
      "exp(At): Matrix([[3*exp(-t)/4 + exp(-5*t)/4, 3*exp(-t)/4 - 3*exp(-5*t)/4], [exp(-t)/4 - exp(-5*t)/4, exp(-t)/4 + 3*exp(-5*t)/4]])\n",
      "\n"
     ]
    }
   ],
   "source": [
    "import sympy as sp\n",
    "\n",
    "A = sp.Matrix([[-2, 3],\n",
    "                [1, -4]])\n",
    "t = sp.Symbol('t')\n",
    "eigenvalues = A.eigenvals(multiple=True)\n",
    "print(f\"Eigenvalues: {eigenvalues[0]}, {eigenvalues[1]}\\n\")\n",
    "\n",
    "exp_At = (A * t).exp()\n",
    "print(f\"exp(At): {exp_At}\\n\")"
   ]
  },
  {
   "cell_type": "code",
   "execution_count": 15,
   "id": "29a778dd",
   "metadata": {},
   "outputs": [
    {
     "name": "stdout",
     "output_type": "stream",
     "text": [
      "Observability matrix Po:\n",
      " [[ 1  0]\n",
      " [-2  4]]\n",
      "Inverse of the observability matrix Po_inv:\n",
      " [[ 1.   -0.  ]\n",
      " [ 0.5   0.25]]\n",
      "Vector v:\n",
      " [[0.  ]\n",
      " [0.25]]\n",
      "Inverse of the transformation matrix:\n",
      " [[0.   1.  ]\n",
      " [0.25 0.  ]]\n",
      "Transformation matrix T:\n",
      " [[0. 4.]\n",
      " [1. 0.]]\n",
      "Normal form of A:\n",
      " [[ 0. -8.]\n",
      " [ 1. -2.]]\n",
      "Normal form of B:\n",
      " [[40.]\n",
      " [ 2.]]\n",
      "Normal form of c:\n",
      " [0. 1.]\n",
      "[[   0 -368]\n",
      " [2944  736]]\n"
     ]
    }
   ],
   "source": [
    "import numpy as np\n",
    "from numpy import linalg as LA\n",
    "\n",
    "# Define the matrices and vectors\n",
    "A = np.array([[-2, 4],\n",
    "                [-2, 0]])\n",
    "B = np.array([[2],\n",
    "                [10]])\n",
    "c = np.array([1, 0]) # careful, this is a column vector\n",
    "\n",
    "en = np.array([[0], [1]]) # this is a row vector\n",
    "\n",
    "# Form the observavbility matrix\n",
    "Po = np.array([c, np.matmul(c, A)])\n",
    "print(\"Observability matrix Po:\\n\", Po)\n",
    "\n",
    "# Find the inverse of the observability matrix\n",
    "Po_inv = LA.inv(Po)\n",
    "print(\"Inverse of the observability matrix Po_inv:\\n\", Po_inv)\n",
    "\n",
    "# Calculate the vector\n",
    "v = np.matmul(Po_inv, en)\n",
    "print(\"Vector v:\\n\", v)\n",
    "\n",
    "# Form the transformation matrix T\n",
    "T_inv = np.hstack([v, A @ v])\n",
    "print(\"Inverse of the transformation matrix:\\n\", T_inv)\n",
    "\n",
    "T = LA.inv(T_inv)\n",
    "print(\"Transformation matrix T:\\n\", T)\n",
    "\n",
    "A_normal = np.matmul(T, np.matmul(A, LA.inv(T)))\n",
    "print(\"Normal form of A:\\n\", A_normal)\n",
    "\n",
    "B_normal = np.matmul(T, B)\n",
    "print(\"Normal form of B:\\n\", B_normal)\n",
    "\n",
    "c_normal = np.matmul(c, T_inv)\n",
    "print(\"Normal form of c:\\n\", c_normal)\n",
    "\n",
    "T = np.array([[-10, 2],\n",
    "                [16, -40]])\n",
    "T_inv = np.array([[40, 2],\n",
    "                [16, 10]])\n",
    "\n",
    "print(LA.matmul(LA.matmul(T, A), T_inv))"
   ]
  }
 ],
 "metadata": {
  "kernelspec": {
   "display_name": "env",
   "language": "python",
   "name": "python3"
  },
  "language_info": {
   "codemirror_mode": {
    "name": "ipython",
    "version": 3
   },
   "file_extension": ".py",
   "mimetype": "text/x-python",
   "name": "python",
   "nbconvert_exporter": "python",
   "pygments_lexer": "ipython3",
   "version": "3.10.12"
  }
 },
 "nbformat": 4,
 "nbformat_minor": 5
}
