{
 "cells": [
  {
   "cell_type": "markdown",
   "id": "a31cdf9b",
   "metadata": {},
   "source": [
    "# Linear Algebra in System Theory"
   ]
  },
  {
   "cell_type": "code",
   "execution_count": 1,
   "id": "36b524e9",
   "metadata": {},
   "outputs": [],
   "source": [
    "import sympy as sp"
   ]
  },
  {
   "cell_type": "markdown",
   "id": "6f1504f4",
   "metadata": {},
   "source": [
    "Solve a $A\\vec{x} = \\vec{b}$ problem. \n",
    "\n",
    "For this we use the sp.linsolve() function of sympy, which returns an 'EmptySet' if the system is inconsistent (no solution)."
   ]
  },
  {
   "cell_type": "code",
   "execution_count": 4,
   "id": "3a12c5ef",
   "metadata": {},
   "outputs": [
    {
     "name": "stdout",
     "output_type": "stream",
     "text": [
      "Solution to the system: {(c3, -c3, c3)}\n"
     ]
    }
   ],
   "source": [
    "c1, c2, c3 = sp.symbols('c1 c2 c3')\n",
    "\n",
    "# Coefficient matrix A \n",
    "A = sp.Matrix([\n",
    "    [1, 1, 0],\n",
    "    [1, 2, 1],\n",
    "    [0, 1, 1]\n",
    "])\n",
    "\n",
    "# Right-hand side vector (homogeneous case)\n",
    "B = sp.Matrix([0, 0, 0])\n",
    "\n",
    "# Solve the system A * [x, y] = B\n",
    "solution = sp.linsolve((A, B), (c1, c2, c3))\n",
    "\n",
    "print(\"Solution to the system:\", solution)"
   ]
  },
  {
   "cell_type": "code",
   "execution_count": 21,
   "id": "60521b13",
   "metadata": {},
   "outputs": [
    {
     "name": "stdout",
     "output_type": "stream",
     "text": [
      "Eigenvalues: -5, -1\n",
      "\n",
      "exp(At): Matrix([[3*exp(-t)/4 + exp(-5*t)/4, 3*exp(-t)/4 - 3*exp(-5*t)/4], [exp(-t)/4 - exp(-5*t)/4, exp(-t)/4 + 3*exp(-5*t)/4]])\n",
      "\n"
     ]
    }
   ],
   "source": [
    "import sympy as sp\n",
    "\n",
    "A = sp.Matrix([[-2, 3],\n",
    "                [1, -4]])\n",
    "t = sp.Symbol('t')\n",
    "eigenvalues = A.eigenvals(multiple=True)\n",
    "print(f\"Eigenvalues: {eigenvalues[0]}, {eigenvalues[1]}\\n\")\n",
    "\n",
    "exp_At = (A * t).exp()\n",
    "print(f\"exp(At): {exp_At}\\n\")"
   ]
  },
  {
   "cell_type": "code",
   "execution_count": 41,
   "id": "29a778dd",
   "metadata": {},
   "outputs": [
    {
     "data": {
      "text/plain": [
       "array([[0.  , 1.  ],\n",
       "       [0.25, 0.  ]])"
      ]
     },
     "execution_count": 41,
     "metadata": {},
     "output_type": "execute_result"
    }
   ],
   "source": [
    "import numpy as np\n",
    "from numpy import linalg as LA\n",
    "\n",
    "# A = sp.Matrix([[-2, 4],\n",
    "#                 [-2, 0]])\n",
    "\n",
    "# eigenvectors = A.eigenvects()\n",
    "# T = sp.Matrix([eigenvectors[0][2], eigenvectors[1][2]])\n",
    "# T = T.inv()\n",
    "\n",
    "A = np.array([[-2, 4],\n",
    "                [-2, 0]])\n",
    "B = np.array([[2],\n",
    "                [10]])\n",
    "c = np.array([1, 0]) # careful, this is a column vector\n",
    "\n",
    "en = np.array([[0], [1]]) # this is a row vector\n",
    "\n",
    "# Form the observavbility matrix\n",
    "Po = np.array([c, np.matmul(c, A)])\n",
    "\n",
    "# Find the inverse of the observability matrix\n",
    "Po_inv = LA.inv(Po)\n",
    "\n",
    "# Calculate the vector\n",
    "v = np.matmul(Po_inv, en)\n",
    "v \n",
    "T_inv = np.hstack([v, A @ v])\n",
    "T_inv"
   ]
  }
 ],
 "metadata": {
  "kernelspec": {
   "display_name": "env",
   "language": "python",
   "name": "python3"
  },
  "language_info": {
   "codemirror_mode": {
    "name": "ipython",
    "version": 3
   },
   "file_extension": ".py",
   "mimetype": "text/x-python",
   "name": "python",
   "nbconvert_exporter": "python",
   "pygments_lexer": "ipython3",
   "version": "3.10.12"
  }
 },
 "nbformat": 4,
 "nbformat_minor": 5
}
