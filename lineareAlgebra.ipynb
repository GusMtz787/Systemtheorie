{
 "cells": [
  {
   "cell_type": "markdown",
   "id": "a31cdf9b",
   "metadata": {},
   "source": [
    "# Lineare Algebra in der Systemtheorie"
   ]
  },
  {
   "cell_type": "markdown",
   "id": "086b0fad",
   "metadata": {},
   "source": [
    "Dieses Notebook liegt bereit um Mathematik Probleme mit Symbolen zu lösen. Dieses Notebook liegt bereit um Mathematik Probleme zu lösen mit Symbolen. Man braucht ein Python Umgebung um dieses Code zu laufen. Die Konzepten, die hier präsentiert sind, sind nur ein klein Teil von alle den Sachen die Mann mit Python machen kann."
   ]
  },
  {
   "cell_type": "code",
   "execution_count": 2,
   "id": "36b524e9",
   "metadata": {},
   "outputs": [],
   "source": [
    "import sympy as sp\n",
    "import numpy as np"
   ]
  },
  {
   "cell_type": "markdown",
   "id": "6f1504f4",
   "metadata": {},
   "source": [
    "### Beispiel 1: Symbolische Lösungen\n",
    "\n",
    "Für Matrix $\\boldsymbol{A} = \\begin{bmatrix} 1 & 1 & 0 \\\\ 1 & 2 & 1 \\\\ 0 & 1 & 1 \\end{bmatrix}$ und Vektor $\\boldsymbol{b} = \\begin{bmatrix} 0 & 0 & 0 \\end{bmatrix}^{\\top}$ bestimmen Sie $\\boldsymbol{x}$ in $\\boldsymbol{A}\\boldsymbol{x} = \\boldsymbol{b}$. \n",
    "\n",
    "Hierzu verwenden wir die Funktion sp.linsolve() von Sympy, die ein „EmptySet“ zurückgibt, wenn das System inkonsistent ist (keine Lösung). \n",
    "\n",
    "Wir nehmen dann $\\boldsymbol{x} = \\begin{bmatrix}x_1 & x_2 & x_3\\end{bmatrix}^{\\top}$."
   ]
  },
  {
   "cell_type": "code",
   "execution_count": null,
   "id": "3a12c5ef",
   "metadata": {},
   "outputs": [
    {
     "name": "stdout",
     "output_type": "stream",
     "text": [
      "Lösung für das System:\n"
     ]
    },
    {
     "data": {
      "text/latex": [
       "$\\displaystyle \\left\\{\\left( x_{3}, \\  - x_{3}, \\  x_{3}\\right)\\right\\}$"
      ],
      "text/plain": [
       "{(x3, -x3, x3)}"
      ]
     },
     "execution_count": 10,
     "metadata": {},
     "output_type": "execute_result"
    }
   ],
   "source": [
    "# Definieren Sie Matrix A\n",
    "A = sp.Matrix([\n",
    "    [1, 1, 0],\n",
    "    [1, 2, 1],\n",
    "    [0, 1, 1]\n",
    "])\n",
    "\n",
    "# Definieren Sie die Variablen von x\n",
    "x1, x2, x3 = sp.symbols('x1 x2 x3')\n",
    "\n",
    "# Right-hand side vector\n",
    "b = sp.Matrix([0, 0, 0])\n",
    "\n",
    "# Solve the system A * x = B\n",
    "solution = sp.linsolve((A, b), (x1, x2, x3))\n",
    "\n",
    "print(\"Lösung für das System:\")\n",
    "solution"
   ]
  },
  {
   "cell_type": "markdown",
   "id": "e4cdcdc7",
   "metadata": {},
   "source": [
    "### Beispiel 2: Exponentialmatrix\n",
    "\n",
    "In Quiz 1 von unserem Kurs steht das folgende Problem:\n",
    "\n",
    "Berechnen Sie die Matrix-Exponentialfunktion $\\exp(\\boldsymbol{A}t)$  mit der folgenden Matrix $\\boldsymbol{A} = \\begin{bmatrix} -2 & 3 \\\\ 1 & -4 \\end{bmatrix}$.\n",
    "\n",
    "Mit Sympy die Lösung ist trivial, mann muss einfach die Exponentialfunktion .exp() für die Multiplikation $\\boldsymbol{A} t$ berechnen."
   ]
  },
  {
   "cell_type": "code",
   "execution_count": 19,
   "id": "1aaab3bd",
   "metadata": {},
   "outputs": [
    {
     "name": "stdout",
     "output_type": "stream",
     "text": [
      "\n",
      "exp(At):\n"
     ]
    },
    {
     "data": {
      "text/latex": [
       "$\\displaystyle \\left[\\begin{matrix}\\frac{3 e^{- t}}{4} + \\frac{e^{- 5 t}}{4} & \\frac{3 e^{- t}}{4} - \\frac{3 e^{- 5 t}}{4}\\\\\\frac{e^{- t}}{4} - \\frac{e^{- 5 t}}{4} & \\frac{e^{- t}}{4} + \\frac{3 e^{- 5 t}}{4}\\end{matrix}\\right]$"
      ],
      "text/plain": [
       "Matrix([\n",
       "[3*exp(-t)/4 + exp(-5*t)/4, 3*exp(-t)/4 - 3*exp(-5*t)/4],\n",
       "[  exp(-t)/4 - exp(-5*t)/4,   exp(-t)/4 + 3*exp(-5*t)/4]])"
      ]
     },
     "execution_count": 19,
     "metadata": {},
     "output_type": "execute_result"
    }
   ],
   "source": [
    "# Definieren Sie ein Matrix A\n",
    "A = sp.Matrix([[-2, 3],\n",
    "                [1, -4]])\n",
    "\n",
    "# Definieren Sie eine Variable t\n",
    "t = sp.symbols('t')\n",
    "\n",
    "# Berechnen Sie die Matrixexponentialfunktion exp(At)\n",
    "exp_At = (A * t).exp()\n",
    "\n",
    "print(f\"\\nexp(At):\")\n",
    "exp_At "
   ]
  },
  {
   "cell_type": "markdown",
   "id": "0ffacd33",
   "metadata": {},
   "source": [
    "### Beispiel 3: Beobachtungsnormalform\n",
    "\n",
    "Von Übung 8, Aufgabe 2a) wir finden:\n",
    "\n",
    "Gegeben sei ein lineares System mit\n",
    "$$\n",
    "\\begin{aligned}\n",
    "\t\\boldsymbol{A} & =\\left[\\begin{array}{ll}\n",
    "\t\t-2 & 4 \\\\\n",
    "\t\t-2 & 0\n",
    "\t\\end{array}\\right] & \\boldsymbol{B} & =\\left[\\begin{array}{l}\n",
    "\t\t2 \\\\\n",
    "\t\t10\n",
    "\t\\end{array}\\right] \\\\\n",
    "\t\\boldsymbol{C} & =\\left[\\begin{array}{ll}\n",
    "\t\t1 & 0\n",
    "\t\\end{array}\\right] & d & =0\n",
    "\\end{aligned}\n",
    "$$\n",
    "\n",
    "Bestimmen Sie die Transformation $\\boldsymbol{T}$ mit $\\boldsymbol{z}=\\boldsymbol{T} \\boldsymbol{x}$, so dass die Dynamik von $\\boldsymbol{z}$ in Beobachtungsnormalform ist."
   ]
  },
  {
   "cell_type": "code",
   "execution_count": 29,
   "id": "29a778dd",
   "metadata": {},
   "outputs": [
    {
     "name": "stdout",
     "output_type": "stream",
     "text": [
      "Beobachtbarkeitsmatrix Po:\n",
      " [[ 1  0]\n",
      " [-2  4]]\n",
      "Inverse der Beobachtbarkeitsmatrix Po_inv:\n",
      " [[ 1.   -0.  ]\n",
      " [ 0.5   0.25]]\n",
      "Vektor v:\n",
      " [[0.  ]\n",
      " [0.25]]\n",
      "Inverse von Transformationsmatrix:\n",
      " [[0.   1.  ]\n",
      " [0.25 0.  ]]\n",
      "Transformationsmatrix T:\n",
      " [[0. 4.]\n",
      " [1. 0.]]\n",
      "Beobachtungsnormalform von A:\n",
      " [[ 0. -8.]\n",
      " [ 1. -2.]]\n",
      "Beobachtungsnormalform von b:\n",
      " [[40.]\n",
      " [ 2.]]\n",
      "Beobachtungsnormalform von c:\n",
      " [0. 1.]\n"
     ]
    }
   ],
   "source": [
    "import numpy as np\n",
    "\n",
    "# Definieren Sie die Matrizen A, B und c\n",
    "A = np.array([[-2, 4],\n",
    "                [-2, 0]])\n",
    "b = np.array([[2],\n",
    "                [10]])\n",
    "c = np.array([1, 0]) # Achtung c ist ein Zeilenvektor\n",
    "\n",
    "en = np.array([[0], [1]])\n",
    "\n",
    "# Berechnen Sie die Beobachtbarkeitsmatrix Po\n",
    "Po = np.array([c, np.matmul(c, A)])\n",
    "print(\"Beobachtbarkeitsmatrix Po:\\n\", Po)\n",
    "\n",
    "# Berechnen Sie die Inverse der Beobachtbarkeitsmatrix Po\n",
    "Po_inv = np.linalg.inv(Po)\n",
    "print(\"Inverse der Beobachtbarkeitsmatrix Po_inv:\\n\", Po_inv)\n",
    "\n",
    "# Berechnen Sie den Vektor v\n",
    "v = np.matmul(Po_inv, en)\n",
    "print(\"Vektor v:\\n\", v)\n",
    "\n",
    "# Berechnen Sie die Inverse von Transformation T\n",
    "T_inv = np.hstack([v, A @ v])\n",
    "print(\"Inverse von Transformationsmatrix:\\n\", T_inv)\n",
    "\n",
    "# Berechnen Sie die Transformation T\n",
    "T = np.linalg.inv(T_inv)\n",
    "print(\"Transformationsmatrix T:\\n\", T)\n",
    "\n",
    "# Berechnen Sie die Normalform der Matrizen A, B und c\n",
    "A_normal = np.matmul(T, np.matmul(A, np.linalg.inv(T)))\n",
    "print(\"Beobachtungsnormalform von A:\\n\", A_normal)\n",
    "\n",
    "B_normal = np.matmul(T, b)\n",
    "print(\"Beobachtungsnormalform von b:\\n\", B_normal)\n",
    "\n",
    "c_normal = np.matmul(c, T_inv)\n",
    "print(\"Beobachtungsnormalform von c:\\n\", c_normal)"
   ]
  },
  {
   "cell_type": "markdown",
   "id": "46753f27",
   "metadata": {},
   "source": [
    "### Beispiel 4: Normalform mit Sympy\n",
    "\n",
    "Von Übung 8, Aufgabe 3a) wir finden:\n",
    "\n",
    "Für das Systems \n",
    " $$\n",
    " \\begin{aligned}\n",
    " \t\\dot{\\boldsymbol{x}} & =\\left[\\begin{array}{ccc}\n",
    " \t\t0 & -1 & -1 \\\\\n",
    " \t\t-1.5 & 0.5 & -1.5 \\\\\n",
    " \t\t0.5 & -0.5 & 1.5\n",
    " \t\\end{array}\\right] \\boldsymbol{x}+\\left[\\begin{array}{c}\n",
    " \t\t(1+\\alpha) / \\sqrt{2} \\\\\n",
    " \t\t0 \\\\\n",
    " \t\t(-1+\\alpha) / \\sqrt{2}\n",
    " \t\\end{array}\\right] u \\\\\n",
    " \ty & =\\left[\\begin{array}{lll}\n",
    " \t\t3 / \\sqrt{2} & -1 / \\sqrt{2} & 1 / \\sqrt{2}\n",
    " \t\\end{array}\\right] \\boldsymbol{x}\n",
    " \\end{aligned}\n",
    " $$\n",
    " mit $\\alpha \\in \\mathbb{R}$ sei eine Zustandstransformation\n",
    "  der Form\n",
    " $$\n",
    " x=\\boldsymbol{T} z\n",
    " $$\n",
    " bekannt, wobei $z$ der transformierten Zustand ist. Die Transformationsmatrix $\\boldsymbol{T}$ und ihre Inverse $\\boldsymbol{T}^{-1}$ sind wie folgt gegeben:\n",
    " $$\n",
    " \\boldsymbol{T}=\\frac{1}{\\sqrt{2}}\\left[\\begin{array}{ccc}\n",
    " \t1 & 1 & 0 \\\\\n",
    " \t1 & 0 & 1 \\\\\n",
    " \t0 & -1 & -1\n",
    " \\end{array}\\right], \\quad \\boldsymbol{T}^{-1}=\\frac{1}{\\sqrt{2}}\\left[\\begin{array}{ccc}\n",
    " \t1 & 1 & 1 \\\\\n",
    " \t1 & -1 & -1 \\\\\n",
    " \t-1 & 1 & -1\n",
    " \\end{array}\\right]\n",
    " $$\n",
    "\n",
    " Da wir eine symbolische Variable haben, müssen wir dieses Problem mit Sympy lösen."
   ]
  },
  {
   "cell_type": "code",
   "execution_count": null,
   "id": "bbd7241c",
   "metadata": {},
   "outputs": [
    {
     "name": "stdout",
     "output_type": "stream",
     "text": [
      "Normal form of A:\n",
      " [[-1. -0. -0.]\n",
      " [ 0.  1.  0.]\n",
      " [-0.  0.  2.]]\n",
      "Normal form of b:\n",
      " [[1.0*alpha]\n",
      " [1.00000000000000]\n",
      " [-1.0*alpha]]\n",
      "Normal form of c:\n",
      " [ 1.  1. -1.]\n"
     ]
    }
   ],
   "source": [
    "np.set_printoptions(suppress=True, precision=5) # Dies verhindert die wissenschaftliche Notation von kleine Zahlen\n",
    "\n",
    "# Definieren Sie eine Symbole für alpha\n",
    "alpha = sp.symbols('alpha')\n",
    "\n",
    "# Definieren Sie die Matrizen A, b und c, T und Inverse von T für die Normalform\n",
    "A = np.array([[0, -1, -1],\n",
    "                [-1.5, 0.5, -1.5],\n",
    "                [0.5, -0.5, 1.5]])\n",
    "\n",
    "b = sp.Matrix([[(1 + alpha) / np.sqrt(2)],\n",
    "                [0],\n",
    "                [(-1 + alpha) / np.sqrt(2)]])\n",
    "\n",
    "c = np.array([3/np.sqrt(2), -1/np.sqrt(2), 1/np.sqrt(2)])\n",
    "\n",
    "T = (1 / np.sqrt(2)) * np.array([[1, 1, 0],\n",
    "                    [1, 0, 1],\n",
    "                    [0, -1, -1]])\n",
    "\n",
    "T_inv = (1 / np.sqrt(2)) *np.array([[1, 1, 1],\n",
    "                            [1, -1, -1],\n",
    "                            [-1, 1, -1]])\n",
    "\n",
    "\n",
    "# Berechnen Sie die Normalform der Matrizen A, b und c\n",
    "A_normal = np.matmul(T_inv, np.matmul(A, T))\n",
    "b_normal = np.matmul(T_inv, b)\n",
    "c_normal = np.matmul(c, T)\n",
    "print(\"Normal form of A:\\n\", A_normal)\n",
    "print(\"Normal form of b:\\n\", b_normal)\n",
    "print(\"Normal form of c:\\n\", c_normal)"
   ]
  }
 ],
 "metadata": {
  "kernelspec": {
   "display_name": "env",
   "language": "python",
   "name": "python3"
  },
  "language_info": {
   "codemirror_mode": {
    "name": "ipython",
    "version": 3
   },
   "file_extension": ".py",
   "mimetype": "text/x-python",
   "name": "python",
   "nbconvert_exporter": "python",
   "pygments_lexer": "ipython3",
   "version": "3.10.12"
  }
 },
 "nbformat": 4,
 "nbformat_minor": 5
}
