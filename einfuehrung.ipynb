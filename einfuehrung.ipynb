{
 "cells": [
  {
   "cell_type": "markdown",
   "id": "2a59530b",
   "metadata": {},
   "source": [
    "# Symbolische Mathematik mit Python \n",
    "\n",
    "Es gibt zwei wichtige Python-Bibliotheken, die in diesem Kurs hilfreich sein können:\n",
    "\n",
    "- **Sympy**: eine Bibliothek für symbolische Berechnungen.\n",
    "- **Numpy**: die _de facto_ optimale Numerischebibliothek für Python.\n",
    "\n",
    "Für mehr Information von jeder Bibliothek, ihr könnt die [Sympy](https://docs.sympy.org/latest/modules/matrices/matrices.html) oder [Numpy](https://numpy.org/doc/2.2/reference/routines.linalg.html) Webseiten besuchen.\n",
    "\n",
    "Unser ersten Schritt ist beide Bibliotheken mit dem nächsten Befehl zu integrieren."
   ]
  },
  {
   "cell_type": "markdown",
   "id": "cc56f449",
   "metadata": {},
   "source": [
    "## Sympy Library\n",
    "\n",
    "Mann muss die Bibliothek *Sympy* in unserer Python Umgebung zu deklarieren für die symbolische Berechnung."
   ]
  },
  {
   "cell_type": "code",
   "execution_count": 2,
   "id": "7ec49637",
   "metadata": {},
   "outputs": [],
   "source": [
    "import sympy as sp"
   ]
  },
  {
   "cell_type": "markdown",
   "id": "eaa59000",
   "metadata": {},
   "source": [
    "### Beispiel 1: Symbolen\n",
    "\n",
    "Wir können alle die Symbolen, die wir anwenden möchten in der folgender Form zu nutzen."
   ]
  },
  {
   "cell_type": "code",
   "execution_count": null,
   "id": "0cecfa39-8f01-4dc8-a96f-acfdef768d25",
   "metadata": {},
   "outputs": [
    {
     "data": {
      "text/latex": [
       "$\\displaystyle R$"
      ],
      "text/plain": [
       "R"
      ]
     },
     "execution_count": 3,
     "metadata": {},
     "output_type": "execute_result"
    }
   ],
   "source": [
    "# Definieren Sie ein symbolisches Parameter\n",
    "R = sp.Symbol('R')\n",
    "\n",
    "# Drucken Sie den Parameter (in Jupyter Notebook wird dies als interaktives Widget angezeigt)\n",
    "R"
   ]
  },
  {
   "cell_type": "markdown",
   "id": "9eccbebf",
   "metadata": {},
   "source": [
    "### Beispiel 2: Rang von Matrizen"
   ]
  },
  {
   "cell_type": "code",
   "execution_count": 7,
   "id": "f2bde4df",
   "metadata": {},
   "outputs": [
    {
     "name": "stdout",
     "output_type": "stream",
     "text": [
      "Rang der Matrix A: 2\n"
     ]
    }
   ],
   "source": [
    "# Definieren Sie ein Matrix A\n",
    "A = sp.Matrix([[-2, 3],\n",
    "                [1, -4]])\n",
    "\n",
    "# Berechnen Sie den Rang von A\n",
    "rank_A = A.rank()\n",
    "\n",
    "print(\"Rang der Matrix A:\", rank_A)"
   ]
  },
  {
   "cell_type": "markdown",
   "id": "1852ed5d",
   "metadata": {},
   "source": [
    "### Beispiel 3: Determinante von Matrizen"
   ]
  },
  {
   "cell_type": "code",
   "execution_count": 11,
   "id": "255f03e5",
   "metadata": {},
   "outputs": [
    {
     "name": "stdout",
     "output_type": "stream",
     "text": [
      "Determinante der Matrix A: 5\n"
     ]
    }
   ],
   "source": [
    "# Berechnen Sie die Determinante von A\n",
    "det_A = A.det()\n",
    "\n",
    "print(\"Determinante der Matrix A:\", det_A)"
   ]
  },
  {
   "cell_type": "markdown",
   "id": "cf567c5c",
   "metadata": {},
   "source": [
    "### Beispiel 4: Eigenwerte und Eigenvektoren\n",
    "\n",
    "Wir können auch **Eigenwerte** und **Eigenvektoren** finden mit den Funktionen eigenvals() und eigenvects().\n",
    "\n"
   ]
  },
  {
   "cell_type": "code",
   "execution_count": 9,
   "id": "990dd59f",
   "metadata": {},
   "outputs": [
    {
     "name": "stdout",
     "output_type": "stream",
     "text": [
      "Eigenwerten: -5, -1\n",
      "\n",
      "Eigenvektoren:\n",
      "Eigenwert: -5, Vielfachheit: 1, Eigenvektoren: [Matrix([\n",
      "[-1],\n",
      "[ 1]])]\n",
      "Eigenwert: -1, Vielfachheit: 1, Eigenvektoren: [Matrix([\n",
      "[3],\n",
      "[1]])]\n"
     ]
    }
   ],
   "source": [
    "# Jetzt können wir die Matrix A verwenden, um verschiedene Operationen durchzuführen, z.B. Eigenwerte berechnen\n",
    "eigenwerte = A.eigenvals(multiple=True)\n",
    "print(f\"Eigenwerten: {eigenwerte[0]}, {eigenwerte[1]}\\n\")\n",
    "\n",
    "# Berechnen der Eigenvektoren\n",
    "eigenvektoren = A.eigenvects()\n",
    "print(\"Eigenvektoren:\")\n",
    "for eigenvalue, multiplicity, eigvecs in eigenvektoren:\n",
    "    print(f\"Eigenwert: {eigenvalue}, Vielfachheit: {multiplicity}, Eigenvektoren: {eigvecs}\")"
   ]
  },
  {
   "cell_type": "markdown",
   "id": "c8c31102",
   "metadata": {},
   "source": [
    "Achtung mit den letzen Funktionen, denn die Eigenwerte und Eigenvektoren sind verpackt als eine Liste, deswegen brauchen wir ein Indexnummer (in diesem Fall entweder 0 oder 1) als: eigenvalues[0] oder eigenvalues[1]. Ihr könnt der Typ der Variablen überprüfen in Python mit dem Befehl type()."
   ]
  },
  {
   "cell_type": "code",
   "execution_count": 10,
   "id": "531886a1",
   "metadata": {},
   "outputs": [
    {
     "name": "stdout",
     "output_type": "stream",
     "text": [
      "<class 'list'>\n"
     ]
    }
   ],
   "source": [
    "# Besipiel für type() funktion\n",
    "print(type(eigenwerte))"
   ]
  },
  {
   "cell_type": "markdown",
   "id": "ff3e67d2",
   "metadata": {},
   "source": [
    "## Numpy Library\n",
    "\n",
    "Numpy ist die Numerische Bibliothek von Python, mann kann viele Rechnungen mit Numpy lösen. In diesem Fall sind wir interessiert in Lineare Algebra."
   ]
  },
  {
   "cell_type": "code",
   "execution_count": 12,
   "id": "ab2b5ca7",
   "metadata": {},
   "outputs": [],
   "source": [
    "import numpy as np"
   ]
  },
  {
   "cell_type": "markdown",
   "id": "ef42098d",
   "metadata": {},
   "source": [
    "### Bespiel 1: Matrizen"
   ]
  },
  {
   "cell_type": "code",
   "execution_count": 14,
   "id": "9a126fb6",
   "metadata": {},
   "outputs": [
    {
     "data": {
      "text/plain": [
       "matrix([[1, 2],\n",
       "        [3, 4]])"
      ]
     },
     "execution_count": 14,
     "metadata": {},
     "output_type": "execute_result"
    }
   ],
   "source": [
    "A = np.matrix('1 2; 3 4')\n",
    "\n",
    "A"
   ]
  },
  {
   "cell_type": "markdown",
   "id": "50b59588",
   "metadata": {},
   "source": [
    "### Besipiel 2: Rang"
   ]
  },
  {
   "cell_type": "code",
   "execution_count": null,
   "id": "4ed94460",
   "metadata": {},
   "outputs": [
    {
     "name": "stdout",
     "output_type": "stream",
     "text": [
      "Rang der Matrix A (NumPy): 2\n"
     ]
    }
   ],
   "source": [
    "# Berechnen Sie der Rang von A mit NumPy\n",
    "rang_A = np.linalg.matrix_rank(A)\n",
    "\n",
    "print(\"Rang der Matrix A:\", rang_A)"
   ]
  },
  {
   "cell_type": "markdown",
   "id": "c0400663",
   "metadata": {},
   "source": [
    "### Beispiel 3: Determinante"
   ]
  },
  {
   "cell_type": "code",
   "execution_count": null,
   "id": "9ee53e06",
   "metadata": {},
   "outputs": [
    {
     "name": "stdout",
     "output_type": "stream",
     "text": [
      "Determinante der Matrix A (NumPy): -2.0000000000000004\n"
     ]
    }
   ],
   "source": [
    "# Berechnen der Determinante von A mit NumPy\n",
    "det_A = np.linalg.det(A)\n",
    "\n",
    "print(\"Determinante der Matrix A:\", det_A)"
   ]
  },
  {
   "cell_type": "markdown",
   "id": "2a586fd0",
   "metadata": {},
   "source": [
    "### Beispiel 4: Eigenwerte und Eigenvektoren"
   ]
  },
  {
   "cell_type": "code",
   "execution_count": null,
   "id": "80da7b9a",
   "metadata": {},
   "outputs": [
    {
     "name": "stdout",
     "output_type": "stream",
     "text": [
      "Eigenwerte (NumPy): [-0.37  5.37]\n",
      "Eigenvektoren (NumPy):\n",
      "[[-0.82 -0.42]\n",
      " [ 0.57 -0.91]]\n"
     ]
    }
   ],
   "source": [
    "# Berechnen der Eigenwerte und Eigenvektoren mit NumPy\n",
    "eigenwerte_np, eigenvektoren_np = np.linalg.eig(A)\n",
    "print(\"Eigenwerte:\", eigenwerte_np)\n",
    "print(\"Eigenvektoren:\")\n",
    "print(eigenvektoren_np)"
   ]
  },
  {
   "cell_type": "markdown",
   "id": "7fa927d4",
   "metadata": {},
   "source": [
    "### Zusammenfassung\n",
    "\n",
    "Zusammenfassend lässt sich sagen, dass die Wahl zwischen Sympy und Numpy trivial ist. Obwohl beide Bibliotheken praktisch dieselben Probleme in der linearen Algebra lösen können, ist die Verwendung von Sympy beim Umgang mit symbolischen Werten definitiv ein Muss.\n",
    "\n",
    "Mit diesem Notizbuch habt ihr gelernt die Grundlagen von Sympy und Numpy für unser Kurs. "
   ]
  }
 ],
 "metadata": {
  "kernelspec": {
   "display_name": "env",
   "language": "python",
   "name": "python3"
  },
  "language_info": {
   "codemirror_mode": {
    "name": "ipython",
    "version": 3
   },
   "file_extension": ".py",
   "mimetype": "text/x-python",
   "name": "python",
   "nbconvert_exporter": "python",
   "pygments_lexer": "ipython3",
   "version": "3.10.12"
  }
 },
 "nbformat": 4,
 "nbformat_minor": 5
}
